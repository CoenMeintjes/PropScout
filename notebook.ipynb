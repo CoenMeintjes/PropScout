{
 "cells": [
  {
   "cell_type": "code",
   "execution_count": 114,
   "metadata": {},
   "outputs": [],
   "source": [
    "import numpy as np\n",
    "import pandas as pd\n",
    "import json\n",
    "import sqlite3\n",
    "\n",
    "conn = sqlite3.connect('parsed_links.sqlite')\n",
    "cur = conn.cursor()\n",
    "\n",
    "df = pd.read_sql_query('SELECT id, json FROM Urls', conn)"
   ]
  },
  {
   "cell_type": "code",
   "execution_count": 115,
   "metadata": {},
   "outputs": [
    {
     "name": "stdout",
     "output_type": "stream",
     "text": [
      "<class 'pandas.core.frame.DataFrame'>\n",
      "RangeIndex: 8 entries, 0 to 7\n",
      "Data columns (total 2 columns):\n",
      " #   Column  Non-Null Count  Dtype \n",
      "---  ------  --------------  ----- \n",
      " 0   id      8 non-null      int64 \n",
      " 1   json    8 non-null      object\n",
      "dtypes: int64(1), object(1)\n",
      "memory usage: 260.0+ bytes\n"
     ]
    },
    {
     "data": {
      "text/html": [
       "<div>\n",
       "<style scoped>\n",
       "    .dataframe tbody tr th:only-of-type {\n",
       "        vertical-align: middle;\n",
       "    }\n",
       "\n",
       "    .dataframe tbody tr th {\n",
       "        vertical-align: top;\n",
       "    }\n",
       "\n",
       "    .dataframe thead th {\n",
       "        text-align: right;\n",
       "    }\n",
       "</style>\n",
       "<table border=\"1\" class=\"dataframe\">\n",
       "  <thead>\n",
       "    <tr style=\"text-align: right;\">\n",
       "      <th></th>\n",
       "      <th>id</th>\n",
       "      <th>json</th>\n",
       "    </tr>\n",
       "  </thead>\n",
       "  <tbody>\n",
       "    <tr>\n",
       "      <th>0</th>\n",
       "      <td>1</td>\n",
       "      <td>{\"Listing Number\": \"112504329\", \"Type of Prope...</td>\n",
       "    </tr>\n",
       "    <tr>\n",
       "      <th>1</th>\n",
       "      <td>2</td>\n",
       "      <td>{\"Listing Number\": \"112461251\", \"Type of Prope...</td>\n",
       "    </tr>\n",
       "    <tr>\n",
       "      <th>2</th>\n",
       "      <td>3</td>\n",
       "      <td>{\"Listing Number\": \"111946646\", \"Type of Prope...</td>\n",
       "    </tr>\n",
       "    <tr>\n",
       "      <th>3</th>\n",
       "      <td>4</td>\n",
       "      <td>{\"Listing Number\": \"110692569\", \"Type of Prope...</td>\n",
       "    </tr>\n",
       "    <tr>\n",
       "      <th>4</th>\n",
       "      <td>5</td>\n",
       "      <td>{\"Listing Number\": \"112564506\", \"Type of Prope...</td>\n",
       "    </tr>\n",
       "  </tbody>\n",
       "</table>\n",
       "</div>"
      ],
      "text/plain": [
       "   id                                               json\n",
       "0   1  {\"Listing Number\": \"112504329\", \"Type of Prope...\n",
       "1   2  {\"Listing Number\": \"112461251\", \"Type of Prope...\n",
       "2   3  {\"Listing Number\": \"111946646\", \"Type of Prope...\n",
       "3   4  {\"Listing Number\": \"110692569\", \"Type of Prope...\n",
       "4   5  {\"Listing Number\": \"112564506\", \"Type of Prope..."
      ]
     },
     "execution_count": 115,
     "metadata": {},
     "output_type": "execute_result"
    }
   ],
   "source": [
    "\n",
    "df['json'] = df['json'].str.replace(\"'\", \"\\\"\")\n",
    "df.info()\n",
    "df.head()\n"
   ]
  },
  {
   "cell_type": "code",
   "execution_count": 117,
   "metadata": {},
   "outputs": [
    {
     "name": "stdout",
     "output_type": "stream",
     "text": [
      "{'Listing Number': '112504329', 'Type of Property': 'House', 'Lifestyle': 'Suburban', 'Listing Date': '03 April 2023', 'Erf Size': '375 m²', 'Rates and Taxes': 'R 5 100', 'Age': '94', 'Pets Allowed': 'Yes', 'Bedrooms': '5', 'Bathrooms': '3', 'Kitchen': 'Open Plan, Laundry, Stove, Extractor Fan, Dishwasher Connection, Granite Tops, Under Counter Oven', 'Office': '1', 'Rooms': 'Blinds, Veranda', 'Parking': '4', 'Garden': 'Yes', 'Style': 'Contemporary', 'Facing': 'North, East, Mountain View', 'Roof': 'Flat Roof', 'Wall': 'Face-brick', 'Window': 'Aluminium', 'Floor': 'Laminated Floors', 'Security': 'Perimeter Wall', 'Flatlet': 'Yes'}\n"
     ]
    },
    {
     "data": {
      "text/html": [
       "<div>\n",
       "<style scoped>\n",
       "    .dataframe tbody tr th:only-of-type {\n",
       "        vertical-align: middle;\n",
       "    }\n",
       "\n",
       "    .dataframe tbody tr th {\n",
       "        vertical-align: top;\n",
       "    }\n",
       "\n",
       "    .dataframe thead th {\n",
       "        text-align: right;\n",
       "    }\n",
       "</style>\n",
       "<table border=\"1\" class=\"dataframe\">\n",
       "  <thead>\n",
       "    <tr style=\"text-align: right;\">\n",
       "      <th></th>\n",
       "      <th>Listing Number</th>\n",
       "      <th>Type of Property</th>\n",
       "      <th>Lifestyle</th>\n",
       "      <th>Listing Date</th>\n",
       "      <th>Erf Size</th>\n",
       "      <th>Rates and Taxes</th>\n",
       "      <th>Age</th>\n",
       "      <th>Pets Allowed</th>\n",
       "      <th>Bedrooms</th>\n",
       "      <th>Bathrooms</th>\n",
       "      <th>...</th>\n",
       "      <th>Parking</th>\n",
       "      <th>Garden</th>\n",
       "      <th>Style</th>\n",
       "      <th>Facing</th>\n",
       "      <th>Roof</th>\n",
       "      <th>Wall</th>\n",
       "      <th>Window</th>\n",
       "      <th>Floor</th>\n",
       "      <th>Security</th>\n",
       "      <th>Flatlet</th>\n",
       "    </tr>\n",
       "  </thead>\n",
       "  <tbody>\n",
       "    <tr>\n",
       "      <th>0</th>\n",
       "      <td>112504329</td>\n",
       "      <td>House</td>\n",
       "      <td>Suburban</td>\n",
       "      <td>03 April 2023</td>\n",
       "      <td>375 m²</td>\n",
       "      <td>R 5 100</td>\n",
       "      <td>94</td>\n",
       "      <td>Yes</td>\n",
       "      <td>5</td>\n",
       "      <td>3</td>\n",
       "      <td>...</td>\n",
       "      <td>4</td>\n",
       "      <td>Yes</td>\n",
       "      <td>Contemporary</td>\n",
       "      <td>North, East, Mountain View</td>\n",
       "      <td>Flat Roof</td>\n",
       "      <td>Face-brick</td>\n",
       "      <td>Aluminium</td>\n",
       "      <td>Laminated Floors</td>\n",
       "      <td>Perimeter Wall</td>\n",
       "      <td>Yes</td>\n",
       "    </tr>\n",
       "  </tbody>\n",
       "</table>\n",
       "<p>1 rows × 23 columns</p>\n",
       "</div>"
      ],
      "text/plain": [
       "  Listing Number Type of Property Lifestyle   Listing Date Erf Size   \n",
       "0      112504329            House  Suburban  03 April 2023   375 m²  \\\n",
       "\n",
       "  Rates and Taxes Age Pets Allowed Bedrooms Bathrooms  ... Parking Garden   \n",
       "0         R 5 100  94          Yes        5         3  ...       4    Yes  \\\n",
       "\n",
       "          Style                      Facing       Roof        Wall     Window   \n",
       "0  Contemporary  North, East, Mountain View  Flat Roof  Face-brick  Aluminium  \\\n",
       "\n",
       "              Floor        Security Flatlet  \n",
       "0  Laminated Floors  Perimeter Wall     Yes  \n",
       "\n",
       "[1 rows x 23 columns]"
      ]
     },
     "execution_count": 117,
     "metadata": {},
     "output_type": "execute_result"
    }
   ],
   "source": [
    "# Read JSON data from the SQLite database into a string\n",
    "json_string = conn.execute('SELECT json FROM Urls').fetchone()[0]\n",
    "print(json_string)\n",
    "# TODO json is not being parsed to DB with double quotes\n",
    "json_string = json_string.replace(\"'\", \"\\\"\")\n",
    "\n",
    "# Load JSON data from the string into a Python dictionary\n",
    "json_data = json.loads(json_string)\n",
    "\n",
    "# Create a DataFrame from the JSON data\n",
    "df = pd.DataFrame.from_dict(json_data, orient='index')\n",
    "\n",
    "# Transpose to rows\n",
    "df.T.head()\n"
   ]
  },
  {
   "cell_type": "code",
   "execution_count": null,
   "metadata": {},
   "outputs": [],
   "source": []
  }
 ],
 "metadata": {
  "kernelspec": {
   "display_name": "Python 3",
   "language": "python",
   "name": "python3"
  },
  "language_info": {
   "codemirror_mode": {
    "name": "ipython",
    "version": 3
   },
   "file_extension": ".py",
   "mimetype": "text/x-python",
   "name": "python",
   "nbconvert_exporter": "python",
   "pygments_lexer": "ipython3",
   "version": "3.11.2"
  },
  "orig_nbformat": 4
 },
 "nbformat": 4,
 "nbformat_minor": 2
}
