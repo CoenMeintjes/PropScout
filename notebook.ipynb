{
 "cells": [
  {
   "cell_type": "code",
   "execution_count": 1,
   "metadata": {},
   "outputs": [],
   "source": [
    "import numpy as np\n",
    "import pandas as pd\n",
    "import json\n",
    "import sqlite3\n",
    "\n",
    "conn = sqlite3.connect('parsed_links.sqlite')\n",
    "cur = conn.cursor()\n",
    "\n",
    "df = pd.read_sql_query('SELECT id, json FROM Urls', conn)"
   ]
  },
  {
   "attachments": {},
   "cell_type": "markdown",
   "metadata": {},
   "source": [
    "- I think that the first step is going to be to extract json into something that I can use to create a master df of all the properties as rows \n",
    "- Will also need to be able to only pull out the important columns which are xxxx....\n"
   ]
  },
  {
   "cell_type": "code",
   "execution_count": 2,
   "metadata": {},
   "outputs": [
    {
     "name": "stdout",
     "output_type": "stream",
     "text": [
      "<class 'pandas.core.frame.DataFrame'>\n",
      "RangeIndex: 8 entries, 0 to 7\n",
      "Data columns (total 2 columns):\n",
      " #   Column  Non-Null Count  Dtype \n",
      "---  ------  --------------  ----- \n",
      " 0   id      8 non-null      int64 \n",
      " 1   json    8 non-null      object\n",
      "dtypes: int64(1), object(1)\n",
      "memory usage: 260.0+ bytes\n"
     ]
    },
    {
     "data": {
      "text/html": [
       "<div>\n",
       "<style scoped>\n",
       "    .dataframe tbody tr th:only-of-type {\n",
       "        vertical-align: middle;\n",
       "    }\n",
       "\n",
       "    .dataframe tbody tr th {\n",
       "        vertical-align: top;\n",
       "    }\n",
       "\n",
       "    .dataframe thead th {\n",
       "        text-align: right;\n",
       "    }\n",
       "</style>\n",
       "<table border=\"1\" class=\"dataframe\">\n",
       "  <thead>\n",
       "    <tr style=\"text-align: right;\">\n",
       "      <th></th>\n",
       "      <th>id</th>\n",
       "      <th>json</th>\n",
       "    </tr>\n",
       "  </thead>\n",
       "  <tbody>\n",
       "    <tr>\n",
       "      <th>0</th>\n",
       "      <td>1</td>\n",
       "      <td>{\"Price\": \"R 3 500 000\", \"Blurb\": \"5 Bedroom H...</td>\n",
       "    </tr>\n",
       "    <tr>\n",
       "      <th>1</th>\n",
       "      <td>2</td>\n",
       "      <td>{\"Price\": \"R 2 950 000\", \"Blurb\": \"2 Bedroom H...</td>\n",
       "    </tr>\n",
       "    <tr>\n",
       "      <th>2</th>\n",
       "      <td>3</td>\n",
       "      <td>{\"Price\": \"R 3 495 000\", \"Blurb\": \"3 Bedroom H...</td>\n",
       "    </tr>\n",
       "    <tr>\n",
       "      <th>3</th>\n",
       "      <td>4</td>\n",
       "      <td>{\"Price\": \"R 4 249 000\", \"Blurb\": \"4 Bedroom H...</td>\n",
       "    </tr>\n",
       "    <tr>\n",
       "      <th>4</th>\n",
       "      <td>5</td>\n",
       "      <td>{\"Price\": \"R 4 900 000\", \"Blurb\": \"4 Bedroom H...</td>\n",
       "    </tr>\n",
       "  </tbody>\n",
       "</table>\n",
       "</div>"
      ],
      "text/plain": [
       "   id                                               json\n",
       "0   1  {\"Price\": \"R 3 500 000\", \"Blurb\": \"5 Bedroom H...\n",
       "1   2  {\"Price\": \"R 2 950 000\", \"Blurb\": \"2 Bedroom H...\n",
       "2   3  {\"Price\": \"R 3 495 000\", \"Blurb\": \"3 Bedroom H...\n",
       "3   4  {\"Price\": \"R 4 249 000\", \"Blurb\": \"4 Bedroom H...\n",
       "4   5  {\"Price\": \"R 4 900 000\", \"Blurb\": \"4 Bedroom H..."
      ]
     },
     "execution_count": 2,
     "metadata": {},
     "output_type": "execute_result"
    }
   ],
   "source": [
    "df['json'] = df['json'].str.replace(\"'\", \"\\\"\")\n",
    "df.info()\n",
    "df.head()"
   ]
  },
  {
   "cell_type": "code",
   "execution_count": 3,
   "metadata": {},
   "outputs": [
    {
     "name": "stdout",
     "output_type": "stream",
     "text": [
      "{'Price': 'R 3 500 000', 'Blurb': '5 Bedroom House on auction in Vredehoek', 'Listing Number': '112504329', 'Type of Property': 'House', 'Lifestyle': 'Suburban', 'Listing Date': '03 April 2023', 'Erf Size': '375 m²', 'Rates and Taxes': 'R 5 100', 'Age': '94', 'Pets Allowed': 'Yes', 'Bedrooms': '5', 'Bathrooms': '3', 'Kitchen': 'Open Plan, Laundry, Stove, Extractor Fan, Dishwasher Connection, Granite Tops, Under Counter Oven', 'Office': '1', 'Rooms': 'Blinds, Veranda', 'Parking': '4', 'Garden': 'Yes', 'Style': 'Contemporary', 'Facing': 'North, East, Mountain View', 'Roof': 'Flat Roof', 'Wall': 'Face-brick', 'Window': 'Aluminium', 'Floor': 'Laminated Floors', 'Security': 'Perimeter Wall', 'Flatlet': 'Yes'}\n"
     ]
    },
    {
     "data": {
      "text/html": [
       "<div>\n",
       "<style scoped>\n",
       "    .dataframe tbody tr th:only-of-type {\n",
       "        vertical-align: middle;\n",
       "    }\n",
       "\n",
       "    .dataframe tbody tr th {\n",
       "        vertical-align: top;\n",
       "    }\n",
       "\n",
       "    .dataframe thead th {\n",
       "        text-align: right;\n",
       "    }\n",
       "</style>\n",
       "<table border=\"1\" class=\"dataframe\">\n",
       "  <thead>\n",
       "    <tr style=\"text-align: right;\">\n",
       "      <th></th>\n",
       "      <th>Price</th>\n",
       "      <th>Blurb</th>\n",
       "      <th>Listing Number</th>\n",
       "      <th>Type of Property</th>\n",
       "      <th>Lifestyle</th>\n",
       "      <th>Listing Date</th>\n",
       "      <th>Erf Size</th>\n",
       "      <th>Rates and Taxes</th>\n",
       "      <th>Age</th>\n",
       "      <th>Pets Allowed</th>\n",
       "      <th>...</th>\n",
       "      <th>Parking</th>\n",
       "      <th>Garden</th>\n",
       "      <th>Style</th>\n",
       "      <th>Facing</th>\n",
       "      <th>Roof</th>\n",
       "      <th>Wall</th>\n",
       "      <th>Window</th>\n",
       "      <th>Floor</th>\n",
       "      <th>Security</th>\n",
       "      <th>Flatlet</th>\n",
       "    </tr>\n",
       "  </thead>\n",
       "  <tbody>\n",
       "    <tr>\n",
       "      <th>0</th>\n",
       "      <td>R 3 500 000</td>\n",
       "      <td>5 Bedroom House on auction in Vredehoek</td>\n",
       "      <td>112504329</td>\n",
       "      <td>House</td>\n",
       "      <td>Suburban</td>\n",
       "      <td>03 April 2023</td>\n",
       "      <td>375 m²</td>\n",
       "      <td>R 5 100</td>\n",
       "      <td>94</td>\n",
       "      <td>Yes</td>\n",
       "      <td>...</td>\n",
       "      <td>4</td>\n",
       "      <td>Yes</td>\n",
       "      <td>Contemporary</td>\n",
       "      <td>North, East, Mountain View</td>\n",
       "      <td>Flat Roof</td>\n",
       "      <td>Face-brick</td>\n",
       "      <td>Aluminium</td>\n",
       "      <td>Laminated Floors</td>\n",
       "      <td>Perimeter Wall</td>\n",
       "      <td>Yes</td>\n",
       "    </tr>\n",
       "  </tbody>\n",
       "</table>\n",
       "<p>1 rows × 25 columns</p>\n",
       "</div>"
      ],
      "text/plain": [
       "         Price                                    Blurb Listing Number   \n",
       "0  R 3 500 000  5 Bedroom House on auction in Vredehoek      112504329  \\\n",
       "\n",
       "  Type of Property Lifestyle   Listing Date Erf Size Rates and Taxes Age   \n",
       "0            House  Suburban  03 April 2023   375 m²         R 5 100  94  \\\n",
       "\n",
       "  Pets Allowed  ... Parking Garden         Style                      Facing   \n",
       "0          Yes  ...       4    Yes  Contemporary  North, East, Mountain View  \\\n",
       "\n",
       "        Roof        Wall     Window             Floor        Security Flatlet  \n",
       "0  Flat Roof  Face-brick  Aluminium  Laminated Floors  Perimeter Wall     Yes  \n",
       "\n",
       "[1 rows x 25 columns]"
      ]
     },
     "execution_count": 3,
     "metadata": {},
     "output_type": "execute_result"
    }
   ],
   "source": [
    "# Read JSON data from the SQLite database into a string\n",
    "json_string = conn.execute('SELECT json FROM Urls').fetchone()[0]\n",
    "print(json_string)\n",
    "# TODO json is not being parsed to DB with double quotes\n",
    "json_string = json_string.replace(\"'\", \"\\\"\")\n",
    "\n",
    "# Load JSON data from the string into a Python dictionary\n",
    "json_data = json.loads(json_string)\n",
    "\n",
    "# Create a DataFrame from the JSON data\n",
    "df = pd.DataFrame.from_dict(json_data, orient='index')\n",
    "\n",
    "# Transpose to rows\n",
    "df.T.head()\n"
   ]
  },
  {
   "cell_type": "code",
   "execution_count": null,
   "metadata": {},
   "outputs": [],
   "source": []
  }
 ],
 "metadata": {
  "kernelspec": {
   "display_name": "Python 3",
   "language": "python",
   "name": "python3"
  },
  "language_info": {
   "codemirror_mode": {
    "name": "ipython",
    "version": 3
   },
   "file_extension": ".py",
   "mimetype": "text/x-python",
   "name": "python",
   "nbconvert_exporter": "python",
   "pygments_lexer": "ipython3",
   "version": "3.11.2"
  },
  "orig_nbformat": 4
 },
 "nbformat": 4,
 "nbformat_minor": 2
}
